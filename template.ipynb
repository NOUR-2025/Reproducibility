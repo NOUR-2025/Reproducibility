{
 "cells": [
  {
   "cell_type": "markdown",
   "id": "f5d0a036",
   "metadata": {},
   "source": [
    "# Data Activity\n",
    "\n",
    "---\n",
    "\n",
    "Created by Alejandro Ciuba (alejandrociuba@pitt.edu)\n",
    "\n",
    "---\n",
    "\n",
    "## Activity Layout\n",
    "\n",
    "Today, we will be doing some free-form data exploration with a dataset of your choosing! First, please go to [Kaggle](https://www.kaggle.com/datasets) and select a dataset; it can be any dataset you want. \n",
    "\n",
    "**MAKE SURE TO SAVE IT IN A SEPARATE DIRECTORY THAN THIS ONE!!!**\n",
    "\n",
    "Afterwards, please `git clone` this repository onto your computer.\n",
    "\n",
    "---\n",
    "\n",
    "## Instructions\n",
    "\n",
    "1. Make a separate branch, naming it based on the dataset you chose.\n",
    "\n",
    "    **NOTE:** First, `cd` into the directory. Then, you run `git branch <NAME>` in the terminal to create the branch and `git checkout <NAME>` to switch to it.\n",
    "2. Make a copy of this template, name it to reflect the dataset (also change the title).\n",
    "3. Replace my name and email (Alejandro Ciuba) with your own.\n",
    "4. Fill in the empty spaces in your Jupyter Notebook.\n",
    "5. Create an Anaconda environment for this notebook.\n",
    "6. Launch the environment.\n",
    "7. Launch the notebok within the environment.\n",
    "\n",
    "    **NOTE:** This is done either through selecting the kernel in VSCode or running `jupyter <NAME>` after environment launch.\n",
    "\n",
    "From there, you are free to explore your data however you see fit! Make graphs, record anomalies, make connections. I recommend performing some statistical tests if you know them (although we'll cover those next week). Run `pip install <NAME>` for any packages you might need (e.g., [pandas](https://pandas.pydata.org/docs/), matplotlib, seaborn, etc.). Once we are finished, we will go over making an `environment.txt` file and forming pull requests."
   ]
  },
  {
   "cell_type": "markdown",
   "id": "67d77fb1",
   "metadata": {},
   "source": [
    "---\n",
    "\n",
    "## Imports & Settings"
   ]
  },
  {
   "cell_type": "code",
   "execution_count": null,
   "id": "5d68cd6a",
   "metadata": {
    "vscode": {
     "languageId": "plaintext"
    }
   },
   "outputs": [],
   "source": [
    "# Put your imports here\n",
    "import matplotlib.pyplot as plt\n",
    "import pandas as pd\n",
    "import seaborn as sns"
   ]
  },
  {
   "cell_type": "code",
   "execution_count": null,
   "id": "a270a60f",
   "metadata": {},
   "outputs": [],
   "source": [
    "# Each code-block should be concise and accomplish one or two basic tasks\n",
    "%pprint  # Turn this off, let's you see more output\n",
    "\n",
    "pd.set_option('display.max_columns', None)  # Output setting\n",
    "\n",
    "plt.style.use('ggplot')  # I prefer this style for charts\n",
    "\n",
    "sns.set_palette(\"muted\")  # Set the colors for the charts\n",
    "\n",
    "sns.color_palette(\"muted\")  # Shows you what the color palette looks like"
   ]
  },
  {
   "cell_type": "markdown",
   "id": "53623db8",
   "metadata": {},
   "source": [
    "---\n",
    "\n",
    "## Functions"
   ]
  },
  {
   "cell_type": "code",
   "execution_count": null,
   "id": "8ae9b2c9",
   "metadata": {},
   "outputs": [],
   "source": [
    "# Put any useful functions in their own codeblock here\n",
    "def load_dataset(path: str) -> pd.DataFrame:\n",
    "    return pd.read_csv(path)"
   ]
  },
  {
   "cell_type": "code",
   "execution_count": null,
   "id": "979c8919",
   "metadata": {},
   "outputs": [],
   "source": [
    "def percentage_plot(df: pd.DataFrame, x: str, labels: bool = False) -> plt.axes:\n",
    "\n",
    "    ordering = df[x].value_counts().index\n",
    "\n",
    "    plot = sns.countplot(data=df, x=x, hue=x, stat=\"percent\", \n",
    "                         order=ordering, hue_order=ordering, palette=sns.color_palette(\"colorblind\"))\n",
    "    plot.tick_params(axis=\"x\", rotation=90)\n",
    "    plot.set_title(f\"{x} Percentages\")\n",
    "    plot.set_ylabel(\"Percentage\")\n",
    "    plot.set_xlabel(x)\n",
    "\n",
    "    # Uncomment this if you want percentages over your bars\n",
    "    # Bonus challenge: Rotate the labels vertically so they don't collide!\n",
    "    # if labels:\n",
    "    #     for c in plot.containers:\n",
    "    #         plot.bar_label(c, fmt=\"%.2f\")\n",
    "\n",
    "    return plot"
   ]
  },
  {
   "cell_type": "markdown",
   "id": "efe0b979",
   "metadata": {},
   "source": [
    "---\n",
    "## Globals"
   ]
  },
  {
   "cell_type": "code",
   "execution_count": null,
   "id": "75d1de7e",
   "metadata": {},
   "outputs": [],
   "source": [
    "DATA = \"FILEPATH/HERE\""
   ]
  },
  {
   "cell_type": "markdown",
   "id": "90351b05",
   "metadata": {},
   "source": [
    "---\n",
    "## Load Data"
   ]
  },
  {
   "cell_type": "code",
   "execution_count": null,
   "id": "742f8cf5",
   "metadata": {},
   "outputs": [],
   "source": [
    "## Use Pandas to load your dataset\n",
    "df = load_dataset(DATA)"
   ]
  },
  {
   "cell_type": "code",
   "execution_count": null,
   "id": "0a8954db",
   "metadata": {},
   "outputs": [],
   "source": [
    "## Use df.info() to get an overview\n",
    "## Use df.describe() to get the data's descriptive statistics (mean, max/min, etc.)"
   ]
  },
  {
   "cell_type": "markdown",
   "id": "f6523257",
   "metadata": {},
   "source": [
    "---\n",
    "\n",
    "## Data Exploration"
   ]
  },
  {
   "cell_type": "code",
   "execution_count": null,
   "id": "0830cf21",
   "metadata": {},
   "outputs": [],
   "source": [
    "## Explore your data here!"
   ]
  }
 ],
 "metadata": {
  "language_info": {
   "name": "python"
  }
 },
 "nbformat": 4,
 "nbformat_minor": 5
}
