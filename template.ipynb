{
 "cells": [
  {
   "cell_type": "markdown",
   "id": "f5d0a036",
   "metadata": {},
   "source": [
    "# Data Activity\n",
    "\n",
    "---\n",
    "\n",
    "Yifan Jing/Ivan (YIJ63@pitt.edu/Jyf20050919@163.com)\n",
    "\n",
    "---\n",
    "\n",
    "## Activity Layout\n",
    "\n",
    "Today, we will be doing some free-form data exploration with a dataset of your choosing! First, please go to [Kaggle](https://www.kaggle.com/datasets) and select a dataset; it can be any dataset you want. \n",
    "\n",
    "**MAKE SURE TO SAVE IT IN A SEPARATE DIRECTORY THAN THIS ONE!!!**\n",
    "\n",
    "Afterwards, please `git clone` this repository onto your computer.\n",
    "\n",
    "## Dataset Chosen\n",
    "\n",
    "**Dataset:** Sleep Health and Lifestyle Dataset  \n",
    "**Link:** https://www.kaggle.com/datasets/uom190346a/sleep-health-and-lifestyle-dataset  \n",
    "**Why I chose this dataset:**  \n",
    "- Sleep health is closely related to daily wellbeing, mood, and productivity, which makes it highly relevant and interesting to analyze.\n",
    "- The dataset contains comprehensive information about sleep duration, efficiency, and various lifestyle factors (such as diet, exercise, napping), providing a great opportunity for multi-variable analysis.\n",
    "**What I hope to learn:**  \n",
    "- Explore the relationships between lifestyle factors (e.g., exercise, dinner time, napping) and sleep quality (e.g., efficiency, duration).\n",
    "- Identify which variables have the strongest influence on sleep efficiency, and possibly attempt some regression or clustering analysis.\n",
    "\n",
    "---\n",
    "\n",
    "## Instructions\n",
    "\n",
    "1. Make a separate branch, naming it based on the dataset you chose.\n",
    "\n",
    "    **NOTE:** First, `cd` into the directory. Then, you run `git branch <NAME>` in the terminal to create the branch and `git checkout <NAME>` to switch to it.\n",
    "2. Make a copy of this template, name it to reflect the dataset (also change the title).\n",
    "3. Replace my name and email (Alejandro Ciuba) with your own.\n",
    "4. Fill in the empty spaces in your Jupyter Notebook.\n",
    "5. Create an Anaconda environment for this notebook.\n",
    "6. Launch the environment.\n",
    "7. Launch the notebok within the environment.\n",
    "\n",
    "    **NOTE:** This is done either through selecting the kernel in VSCode or running `jupyter <NAME>` after environment launch.\n",
    "\n",
    "From there, you are free to explore your data however you see fit! Make graphs, record anomalies, make connections. I recommend performing some statistical tests if you know them (although we'll cover those next week). Run `pip install <NAME>` for any packages you might need (e.g., [pandas](https://pandas.pydata.org/docs/), matplotlib, seaborn, etc.). Once we are finished, we will go over making an `environment.txt` file and forming pull requests."
   ]
  },
  {
   "cell_type": "markdown",
   "id": "67d77fb1",
   "metadata": {},
   "source": [
    "---\n",
    "\n",
    "## Imports & Settings"
   ]
  },
  {
   "cell_type": "code",
   "execution_count": 5,
   "id": "5d68cd6a",
   "metadata": {},
   "outputs": [],
   "source": [
    "# Put your imports here\n",
    "import matplotlib.pyplot as plt\n",
    "import pandas as pd\n",
    "import seaborn as sns"
   ]
  },
  {
   "cell_type": "code",
   "execution_count": 6,
   "id": "a270a60f",
   "metadata": {},
   "outputs": [
    {
     "name": "stdout",
     "output_type": "stream",
     "text": [
      "Pretty printing has been turned OFF\n"
     ]
    },
    {
     "data": {
      "text/html": [
       "<svg  width=\"550\" height=\"55\"><rect x=\"0\" y=\"0\" width=\"55\" height=\"55\" style=\"fill:#4878d0;stroke-width:2;stroke:rgb(255,255,255)\"/><rect x=\"55\" y=\"0\" width=\"55\" height=\"55\" style=\"fill:#ee854a;stroke-width:2;stroke:rgb(255,255,255)\"/><rect x=\"110\" y=\"0\" width=\"55\" height=\"55\" style=\"fill:#6acc64;stroke-width:2;stroke:rgb(255,255,255)\"/><rect x=\"165\" y=\"0\" width=\"55\" height=\"55\" style=\"fill:#d65f5f;stroke-width:2;stroke:rgb(255,255,255)\"/><rect x=\"220\" y=\"0\" width=\"55\" height=\"55\" style=\"fill:#956cb4;stroke-width:2;stroke:rgb(255,255,255)\"/><rect x=\"275\" y=\"0\" width=\"55\" height=\"55\" style=\"fill:#8c613c;stroke-width:2;stroke:rgb(255,255,255)\"/><rect x=\"330\" y=\"0\" width=\"55\" height=\"55\" style=\"fill:#dc7ec0;stroke-width:2;stroke:rgb(255,255,255)\"/><rect x=\"385\" y=\"0\" width=\"55\" height=\"55\" style=\"fill:#797979;stroke-width:2;stroke:rgb(255,255,255)\"/><rect x=\"440\" y=\"0\" width=\"55\" height=\"55\" style=\"fill:#d5bb67;stroke-width:2;stroke:rgb(255,255,255)\"/><rect x=\"495\" y=\"0\" width=\"55\" height=\"55\" style=\"fill:#82c6e2;stroke-width:2;stroke:rgb(255,255,255)\"/></svg>"
      ],
      "text/plain": [
       "[(0.2823529411764706, 0.47058823529411764, 0.8156862745098039), (0.9333333333333333, 0.5215686274509804, 0.2901960784313726), (0.41568627450980394, 0.8, 0.39215686274509803), (0.8392156862745098, 0.37254901960784315, 0.37254901960784315), (0.5843137254901961, 0.4235294117647059, 0.7058823529411765), (0.5490196078431373, 0.3803921568627451, 0.23529411764705882), (0.8627450980392157, 0.49411764705882355, 0.7529411764705882), (0.4745098039215686, 0.4745098039215686, 0.4745098039215686), (0.8352941176470589, 0.7333333333333333, 0.403921568627451), (0.5098039215686274, 0.7764705882352941, 0.8862745098039215)]"
      ]
     },
     "execution_count": 6,
     "metadata": {},
     "output_type": "execute_result"
    }
   ],
   "source": [
    "# Each code-block should be concise and accomplish one or two basic tasks\n",
    "%pprint  # Turn this off, let's you see more output\n",
    "\n",
    "pd.set_option('display.max_columns', None)  # Output setting\n",
    "\n",
    "plt.style.use('ggplot')  # I prefer this style for charts\n",
    "\n",
    "sns.set_palette(\"muted\")  # Set the colors for the charts\n",
    "\n",
    "sns.color_palette(\"muted\")  # Shows you what the color palette looks like"
   ]
  },
  {
   "cell_type": "markdown",
   "id": "53623db8",
   "metadata": {},
   "source": [
    "---\n",
    "\n",
    "## Functions"
   ]
  },
  {
   "cell_type": "code",
   "execution_count": 7,
   "id": "8ae9b2c9",
   "metadata": {},
   "outputs": [],
   "source": [
    "# Put any useful functions in their own codeblock here\n",
    "def load_dataset(path: str) -> pd.DataFrame:\n",
    "    return pd.read_csv(path)"
   ]
  },
  {
   "cell_type": "code",
   "execution_count": 8,
   "id": "979c8919",
   "metadata": {},
   "outputs": [],
   "source": [
    "def percentage_plot(df: pd.DataFrame, x: str, labels: bool = False) -> plt.axes:\n",
    "\n",
    "    ordering = df[x].value_counts().index\n",
    "\n",
    "    plot = sns.countplot(data=df, x=x, hue=x, stat=\"percent\", \n",
    "                         order=ordering, hue_order=ordering, palette=sns.color_palette(\"colorblind\"))\n",
    "    plot.tick_params(axis=\"x\", rotation=90)\n",
    "    plot.set_title(f\"{x} Percentages\")\n",
    "    plot.set_ylabel(\"Percentage\")\n",
    "    plot.set_xlabel(x)\n",
    "\n",
    "    # Uncomment this if you want percentages over your bars\n",
    "    # Bonus challenge: Rotate the labels vertically so they don't collide!\n",
    "    # if labels:\n",
    "    #     for c in plot.containers:\n",
    "    #         plot.bar_label(c, fmt=\"%.2f\")\n",
    "\n",
    "    return plot"
   ]
  },
  {
   "cell_type": "markdown",
   "id": "efe0b979",
   "metadata": {},
   "source": [
    "---\n",
    "## Globals"
   ]
  },
  {
   "cell_type": "code",
   "execution_count": 9,
   "id": "75d1de7e",
   "metadata": {},
   "outputs": [],
   "source": [
    "DATA = \"./Sleep_health_and_lifestyle_dataset.csv\""
   ]
  },
  {
   "cell_type": "markdown",
   "id": "90351b05",
   "metadata": {},
   "source": [
    "---\n",
    "## Load Data"
   ]
  },
  {
   "cell_type": "code",
   "execution_count": 10,
   "id": "742f8cf5",
   "metadata": {},
   "outputs": [],
   "source": [
    "## Use Pandas to load your dataset\n",
    "df = load_dataset(DATA)"
   ]
  },
  {
   "cell_type": "code",
   "execution_count": 11,
   "id": "0a8954db",
   "metadata": {},
   "outputs": [],
   "source": [
    "## Use df.info() to get an overview\n",
    "## Use df.describe() to get the data's descriptive statistics (mean, max/min, etc.)"
   ]
  },
  {
   "cell_type": "markdown",
   "id": "f6523257",
   "metadata": {},
   "source": [
    "---\n",
    "\n",
    "## Data Exploration"
   ]
  },
  {
   "cell_type": "code",
   "execution_count": 13,
   "id": "0830cf21",
   "metadata": {},
   "outputs": [
    {
     "name": "stdout",
     "output_type": "stream",
     "text": [
      "<class 'pandas.core.frame.DataFrame'>\n",
      "RangeIndex: 374 entries, 0 to 373\n",
      "Data columns (total 13 columns):\n",
      " #   Column                   Non-Null Count  Dtype  \n",
      "---  ------                   --------------  -----  \n",
      " 0   Person ID                374 non-null    int64  \n",
      " 1   Gender                   374 non-null    object \n",
      " 2   Age                      374 non-null    int64  \n",
      " 3   Occupation               374 non-null    object \n",
      " 4   Sleep Duration           374 non-null    float64\n",
      " 5   Quality of Sleep         374 non-null    int64  \n",
      " 6   Physical Activity Level  374 non-null    int64  \n",
      " 7   Stress Level             374 non-null    int64  \n",
      " 8   BMI Category             374 non-null    object \n",
      " 9   Blood Pressure           374 non-null    object \n",
      " 10  Heart Rate               374 non-null    int64  \n",
      " 11  Daily Steps              374 non-null    int64  \n",
      " 12  Sleep Disorder           155 non-null    object \n",
      "dtypes: float64(1), int64(7), object(5)\n",
      "memory usage: 38.1+ KB\n"
     ]
    },
    {
     "data": {
      "text/html": [
       "<div>\n",
       "<style scoped>\n",
       "    .dataframe tbody tr th:only-of-type {\n",
       "        vertical-align: middle;\n",
       "    }\n",
       "\n",
       "    .dataframe tbody tr th {\n",
       "        vertical-align: top;\n",
       "    }\n",
       "\n",
       "    .dataframe thead th {\n",
       "        text-align: right;\n",
       "    }\n",
       "</style>\n",
       "<table border=\"1\" class=\"dataframe\">\n",
       "  <thead>\n",
       "    <tr style=\"text-align: right;\">\n",
       "      <th></th>\n",
       "      <th>Person ID</th>\n",
       "      <th>Age</th>\n",
       "      <th>Sleep Duration</th>\n",
       "      <th>Quality of Sleep</th>\n",
       "      <th>Physical Activity Level</th>\n",
       "      <th>Stress Level</th>\n",
       "      <th>Heart Rate</th>\n",
       "      <th>Daily Steps</th>\n",
       "    </tr>\n",
       "  </thead>\n",
       "  <tbody>\n",
       "    <tr>\n",
       "      <th>count</th>\n",
       "      <td>374.000000</td>\n",
       "      <td>374.000000</td>\n",
       "      <td>374.000000</td>\n",
       "      <td>374.000000</td>\n",
       "      <td>374.000000</td>\n",
       "      <td>374.000000</td>\n",
       "      <td>374.000000</td>\n",
       "      <td>374.000000</td>\n",
       "    </tr>\n",
       "    <tr>\n",
       "      <th>mean</th>\n",
       "      <td>187.500000</td>\n",
       "      <td>42.184492</td>\n",
       "      <td>7.132086</td>\n",
       "      <td>7.312834</td>\n",
       "      <td>59.171123</td>\n",
       "      <td>5.385027</td>\n",
       "      <td>70.165775</td>\n",
       "      <td>6816.844920</td>\n",
       "    </tr>\n",
       "    <tr>\n",
       "      <th>std</th>\n",
       "      <td>108.108742</td>\n",
       "      <td>8.673133</td>\n",
       "      <td>0.795657</td>\n",
       "      <td>1.196956</td>\n",
       "      <td>20.830804</td>\n",
       "      <td>1.774526</td>\n",
       "      <td>4.135676</td>\n",
       "      <td>1617.915679</td>\n",
       "    </tr>\n",
       "    <tr>\n",
       "      <th>min</th>\n",
       "      <td>1.000000</td>\n",
       "      <td>27.000000</td>\n",
       "      <td>5.800000</td>\n",
       "      <td>4.000000</td>\n",
       "      <td>30.000000</td>\n",
       "      <td>3.000000</td>\n",
       "      <td>65.000000</td>\n",
       "      <td>3000.000000</td>\n",
       "    </tr>\n",
       "    <tr>\n",
       "      <th>25%</th>\n",
       "      <td>94.250000</td>\n",
       "      <td>35.250000</td>\n",
       "      <td>6.400000</td>\n",
       "      <td>6.000000</td>\n",
       "      <td>45.000000</td>\n",
       "      <td>4.000000</td>\n",
       "      <td>68.000000</td>\n",
       "      <td>5600.000000</td>\n",
       "    </tr>\n",
       "    <tr>\n",
       "      <th>50%</th>\n",
       "      <td>187.500000</td>\n",
       "      <td>43.000000</td>\n",
       "      <td>7.200000</td>\n",
       "      <td>7.000000</td>\n",
       "      <td>60.000000</td>\n",
       "      <td>5.000000</td>\n",
       "      <td>70.000000</td>\n",
       "      <td>7000.000000</td>\n",
       "    </tr>\n",
       "    <tr>\n",
       "      <th>75%</th>\n",
       "      <td>280.750000</td>\n",
       "      <td>50.000000</td>\n",
       "      <td>7.800000</td>\n",
       "      <td>8.000000</td>\n",
       "      <td>75.000000</td>\n",
       "      <td>7.000000</td>\n",
       "      <td>72.000000</td>\n",
       "      <td>8000.000000</td>\n",
       "    </tr>\n",
       "    <tr>\n",
       "      <th>max</th>\n",
       "      <td>374.000000</td>\n",
       "      <td>59.000000</td>\n",
       "      <td>8.500000</td>\n",
       "      <td>9.000000</td>\n",
       "      <td>90.000000</td>\n",
       "      <td>8.000000</td>\n",
       "      <td>86.000000</td>\n",
       "      <td>10000.000000</td>\n",
       "    </tr>\n",
       "  </tbody>\n",
       "</table>\n",
       "</div>"
      ],
      "text/plain": [
       "        Person ID         Age  Sleep Duration  Quality of Sleep  \\\n",
       "count  374.000000  374.000000      374.000000        374.000000   \n",
       "mean   187.500000   42.184492        7.132086          7.312834   \n",
       "std    108.108742    8.673133        0.795657          1.196956   \n",
       "min      1.000000   27.000000        5.800000          4.000000   \n",
       "25%     94.250000   35.250000        6.400000          6.000000   \n",
       "50%    187.500000   43.000000        7.200000          7.000000   \n",
       "75%    280.750000   50.000000        7.800000          8.000000   \n",
       "max    374.000000   59.000000        8.500000          9.000000   \n",
       "\n",
       "       Physical Activity Level  Stress Level  Heart Rate   Daily Steps  \n",
       "count               374.000000    374.000000  374.000000    374.000000  \n",
       "mean                 59.171123      5.385027   70.165775   6816.844920  \n",
       "std                  20.830804      1.774526    4.135676   1617.915679  \n",
       "min                  30.000000      3.000000   65.000000   3000.000000  \n",
       "25%                  45.000000      4.000000   68.000000   5600.000000  \n",
       "50%                  60.000000      5.000000   70.000000   7000.000000  \n",
       "75%                  75.000000      7.000000   72.000000   8000.000000  \n",
       "max                  90.000000      8.000000   86.000000  10000.000000  "
      ]
     },
     "execution_count": 13,
     "metadata": {},
     "output_type": "execute_result"
    }
   ],
   "source": [
    "## Explore your data here!\n",
    "df.info()\n",
    "df.describe()"
   ]
  },
  {
   "cell_type": "markdown",
   "id": "cadf35e2",
   "metadata": {},
   "source": [
    "From the output above, we can see:\n",
    "- The dataset has 374 rows and 13 columns.\n",
    "- Most columns have complete data except for 'Sleep Disorder', which has many missing values (only 155 non-null).\n",
    "- All key numeric features (such as Age, Sleep Duration, Quality of Sleep, Physical Activity Level, etc.) have reasonable distributions and ranges.\n",
    "\n"
   ]
  }
 ],
 "metadata": {
  "kernelspec": {
   "display_name": "nourenv",
   "language": "python",
   "name": "python3"
  },
  "language_info": {
   "codemirror_mode": {
    "name": "ipython",
    "version": 3
   },
   "file_extension": ".py",
   "mimetype": "text/x-python",
   "name": "python",
   "nbconvert_exporter": "python",
   "pygments_lexer": "ipython3",
   "version": "3.12.11"
  }
 },
 "nbformat": 4,
 "nbformat_minor": 5
}
